{
 "cells": [
  {
   "cell_type": "code",
   "execution_count": 1,
   "id": "4989628e",
   "metadata": {},
   "outputs": [],
   "source": [
    "import os\n",
    "from keras.layers import Input, Lambda, Dense, Flatten\n",
    "from keras.models import Model\n",
    "from keras.preprocessing import image\n",
    "from keras.preprocessing.image import ImageDataGenerator\n",
    "from tensorflow.keras import layers, losses\n",
    "from tensorflow.keras import regularizers \n",
    "from tensorflow.keras.layers import Dropout\n",
    "from tensorflow.random import set_seed\n",
    "from keras.models import Sequential\n",
    "from tensorflow.keras.layers import Conv2D,Dense,MaxPool2D,Flatten,MaxPooling2D\n",
    "from tensorflow.keras.regularizers import l2\n",
    "import numpy as np\n",
    "import pandas as pd\n",
    "from glob import glob\n",
    "import matplotlib.pyplot as plt\n",
    "import tensorflow as tf\n",
    "import matplotlib.pyplot as plt\n",
    "from sklearn.model_selection import train_test_split\n",
    "from keras.utils import to_categorical\n",
    "from tqdm import tqdm\n",
    "import keras\n",
    "\n",
    "import warnings\n",
    "warnings.filterwarnings('ignore')"
   ]
  },
  {
   "cell_type": "code",
   "execution_count": 2,
   "id": "4607af88",
   "metadata": {},
   "outputs": [
    {
     "data": {
      "text/plain": [
       "'D:\\\\Python\\\\Image-Recommendation'"
      ]
     },
     "execution_count": 2,
     "metadata": {},
     "output_type": "execute_result"
    }
   ],
   "source": [
    "# Set working Dir\n",
    "path = \"D:\\Python\\Image-Recommendation\"\n",
    "os.chdir(path)\n",
    "os.getcwd()"
   ]
  },
  {
   "cell_type": "code",
   "execution_count": 3,
   "id": "2ed15f60",
   "metadata": {},
   "outputs": [
    {
     "data": {
      "text/plain": [
       "(39194, 8)"
      ]
     },
     "execution_count": 3,
     "metadata": {},
     "output_type": "execute_result"
    }
   ],
   "source": [
    "df = pd.read_csv('Save-Dataset/product_data.csv')\n",
    "df.drop(['Unnamed: 0'], axis=1, inplace=True)\n",
    "df.shape"
   ]
  },
  {
   "cell_type": "code",
   "execution_count": 4,
   "id": "38da8769",
   "metadata": {},
   "outputs": [],
   "source": [
    "train_df = pd.read_csv('save-dataset/train.csv')\n",
    "train_df.drop(['Unnamed: 0'], axis=1, inplace=True)\n",
    "\n",
    "test_df = pd.read_csv('save-dataset/test.csv')\n",
    "test_df.drop(['Unnamed: 0'], axis=1, inplace=True)"
   ]
  },
  {
   "cell_type": "code",
   "execution_count": 5,
   "id": "d0b90025",
   "metadata": {},
   "outputs": [
    {
     "name": "stdout",
     "output_type": "stream",
     "text": [
      "Train-DF shape: (29395, 8)\n",
      "Test-DF shape: (9799, 8)\n"
     ]
    }
   ],
   "source": [
    "#train_df = df.sample(frac=0.8,random_state=43)\n",
    "#test_df = df.drop(train_df.index)\n",
    "print('Train-DF shape:', train_df.shape)\n",
    "print('Test-DF shape:', test_df.shape)"
   ]
  },
  {
   "cell_type": "code",
   "execution_count": null,
   "id": "48972c48",
   "metadata": {},
   "outputs": [],
   "source": [
    "from tensorflow.keras.preprocessing import image\n",
    "\n",
    "# Reading the training images\n",
    "train_image = []\n",
    "for i, row in tqdm(df.iterrows()):  \n",
    "    folder = path + '\\\\train-test-dataset\\\\train\\\\'+ row['category']\n",
    "    img = image.load_img(folder + '\\\\'+ str(row['product_id'])+'.jpeg', target_size=(120,120,1), grayscale=True)\n",
    "    img = image.img_to_array(img)\n",
    "    img = img/255\n",
    "    train_image.append(img)\n",
    "X = np.array(train_image)"
   ]
  },
  {
   "cell_type": "code",
   "execution_count": 7,
   "id": "5690f535",
   "metadata": {},
   "outputs": [],
   "source": [
    "import pickle\n",
    "train_image = np.asarray(pickle.load(open('save-dataset/train_image.pkl','rb')))\n",
    "X = np.array(pickle.load(open('save-dataset/X_image.pkl','rb')))"
   ]
  },
  {
   "cell_type": "code",
   "execution_count": null,
   "id": "93727224",
   "metadata": {},
   "outputs": [],
   "source": [
    "#import pickle\n",
    "#pickle.dump(train_image,open('save-dataset/train_image.pkl','wb'))\n",
    "#pickle.dump(X,open('save-dataset/X_image.pkl','wb'))"
   ]
  },
  {
   "cell_type": "code",
   "execution_count": 8,
   "id": "5ad7f183",
   "metadata": {},
   "outputs": [],
   "source": [
    "# Converting the response variable into numbers\n",
    "df['category'][df['category']=='Electronics' ]=0\n",
    "df['category'][df['category']=='Pet Supplies' ]=1\n",
    "df['category'][df['category']=='Home and Kitchen' ]=2\n",
    "df['category'][df['category']=='Cell Phones and Accessories' ]=3\n",
    "df['category'][df['category']=='Clothing Men' ]=4\n",
    "df['category'][df['category']=='Clothing Women' ]=5\n",
    "df['category'][df['category']=='Watches' ]=6\n",
    "df['category'][df['category']=='Shoes' ]=7\n",
    "df['category']=df['category'].astype(int)"
   ]
  },
  {
   "cell_type": "code",
   "execution_count": 9,
   "id": "92cd09ed",
   "metadata": {},
   "outputs": [],
   "source": [
    "# Creating the target variable\n",
    "from keras.utils import to_categorical\n",
    "\n",
    "y=df['category'].values\n",
    "y = to_categorical(y)"
   ]
  },
  {
   "cell_type": "code",
   "execution_count": 10,
   "id": "45a2b6a2",
   "metadata": {},
   "outputs": [],
   "source": [
    "# Splitting the data\n",
    "X_train, X_test, y_train, y_test = train_test_split(X, y, random_state=42, test_size=0.25)"
   ]
  },
  {
   "cell_type": "code",
   "execution_count": 11,
   "id": "71e92f8f",
   "metadata": {},
   "outputs": [
    {
     "name": "stdout",
     "output_type": "stream",
     "text": [
      "train data\n",
      "(29395, 120, 120, 1)\n",
      "(29395, 8)\n",
      "\n",
      " test data\n",
      "(9799, 120, 120, 1)\n",
      "(9799, 8)\n"
     ]
    }
   ],
   "source": [
    "print(\"train data\")\n",
    "print(X_train.shape)\n",
    "print(y_train.shape)\n",
    "print(\"\\n test data\")\n",
    "print(X_test.shape)\n",
    "print(y_test.shape)"
   ]
  },
  {
   "cell_type": "code",
   "execution_count": 12,
   "id": "08613991",
   "metadata": {},
   "outputs": [
    {
     "data": {
      "text/plain": [
       "dtype('float32')"
      ]
     },
     "execution_count": 12,
     "metadata": {},
     "output_type": "execute_result"
    }
   ],
   "source": [
    "# originally, the pixels are stored as ints\n",
    "X_train.dtype"
   ]
  },
  {
   "cell_type": "code",
   "execution_count": 13,
   "id": "9815f7c4",
   "metadata": {},
   "outputs": [],
   "source": [
    "# convert int to float\n",
    "X_train = X_train.astype('float32')\n",
    "X_test = X_test.astype('float32')"
   ]
  },
  {
   "cell_type": "code",
   "execution_count": 14,
   "id": "525ba764",
   "metadata": {},
   "outputs": [],
   "source": [
    "# normalise\n",
    "X_train /= 255\n",
    "X_test /= 255"
   ]
  },
  {
   "cell_type": "code",
   "execution_count": 15,
   "id": "2c191fff",
   "metadata": {},
   "outputs": [],
   "source": [
    "img_rows, img_cols = 120, 120\n",
    "input_shape = (img_rows, img_cols, 1)\n",
    "\n",
    "num_classes = 8\n",
    "batch_size = 128\n",
    "epochs = 50"
   ]
  },
  {
   "cell_type": "code",
   "execution_count": 16,
   "id": "479902c6",
   "metadata": {},
   "outputs": [
    {
     "name": "stdout",
     "output_type": "stream",
     "text": [
      "Model: \"sequential\"\n",
      "_________________________________________________________________\n",
      " Layer (type)                Output Shape              Param #   \n",
      "=================================================================\n",
      " conv2d (Conv2D)             (None, 120, 120, 32)      320       \n",
      "                                                                 \n",
      " activation (Activation)     (None, 120, 120, 32)      0         \n",
      "                                                                 \n",
      " batch_normalization (BatchN  (None, 120, 120, 32)     128       \n",
      " ormalization)                                                   \n",
      "                                                                 \n",
      " conv2d_1 (Conv2D)           (None, 118, 118, 32)      9248      \n",
      "                                                                 \n",
      " activation_1 (Activation)   (None, 118, 118, 32)      0         \n",
      "                                                                 \n",
      " batch_normalization_1 (Batc  (None, 118, 118, 32)     128       \n",
      " hNormalization)                                                 \n",
      "                                                                 \n",
      " max_pooling2d (MaxPooling2D  (None, 59, 59, 32)       0         \n",
      " )                                                               \n",
      "                                                                 \n",
      " dropout (Dropout)           (None, 59, 59, 32)        0         \n",
      "                                                                 \n",
      " conv2d_2 (Conv2D)           (None, 59, 59, 64)        18496     \n",
      "                                                                 \n",
      " activation_2 (Activation)   (None, 59, 59, 64)        0         \n",
      "                                                                 \n",
      " batch_normalization_2 (Batc  (None, 59, 59, 64)       256       \n",
      " hNormalization)                                                 \n",
      "                                                                 \n",
      " conv2d_3 (Conv2D)           (None, 57, 57, 64)        36928     \n",
      "                                                                 \n",
      " activation_3 (Activation)   (None, 57, 57, 64)        0         \n",
      "                                                                 \n",
      " batch_normalization_3 (Batc  (None, 57, 57, 64)       256       \n",
      " hNormalization)                                                 \n",
      "                                                                 \n",
      " max_pooling2d_1 (MaxPooling  (None, 28, 28, 64)       0         \n",
      " 2D)                                                             \n",
      "                                                                 \n",
      " dropout_1 (Dropout)         (None, 28, 28, 64)        0         \n",
      "                                                                 \n",
      " conv2d_4 (Conv2D)           (None, 28, 28, 128)       73856     \n",
      "                                                                 \n",
      " activation_4 (Activation)   (None, 28, 28, 128)       0         \n",
      "                                                                 \n",
      " batch_normalization_4 (Batc  (None, 28, 28, 128)      512       \n",
      " hNormalization)                                                 \n",
      "                                                                 \n",
      " conv2d_5 (Conv2D)           (None, 26, 26, 128)       147584    \n",
      "                                                                 \n",
      " activation_5 (Activation)   (None, 26, 26, 128)       0         \n",
      "                                                                 \n",
      " batch_normalization_5 (Batc  (None, 26, 26, 128)      512       \n",
      " hNormalization)                                                 \n",
      "                                                                 \n",
      " max_pooling2d_2 (MaxPooling  (None, 13, 13, 128)      0         \n",
      " 2D)                                                             \n",
      "                                                                 \n",
      " dropout_2 (Dropout)         (None, 13, 13, 128)       0         \n",
      "                                                                 \n",
      " flatten (Flatten)           (None, 21632)             0         \n",
      "                                                                 \n",
      " dense (Dense)               (None, 512)               11076096  \n",
      "                                                                 \n",
      " activation_6 (Activation)   (None, 512)               0         \n",
      "                                                                 \n",
      " dropout_3 (Dropout)         (None, 512)               0         \n",
      "                                                                 \n",
      " dense_1 (Dense)             (None, 8)                 4104      \n",
      "                                                                 \n",
      " activation_7 (Activation)   (None, 8)                 0         \n",
      "                                                                 \n",
      "=================================================================\n",
      "Total params: 11,368,424\n",
      "Trainable params: 11,367,528\n",
      "Non-trainable params: 896\n",
      "_________________________________________________________________\n"
     ]
    }
   ],
   "source": [
    "from tensorflow.keras.regularizers import l2\n",
    "from tensorflow.keras.layers import Dense, Flatten, Activation, Conv2D, MaxPooling2D\n",
    "from tensorflow.keras.layers import Dropout, BatchNormalization\n",
    "\n",
    "set_seed(42) #setting the seed\n",
    "\n",
    "model = Sequential()\n",
    "\n",
    "model.add(Conv2D(32, (3, 3), padding='same',\n",
    "                 input_shape=X_train.shape[1:],kernel_regularizer=regularizers.l1(1e-5)))\n",
    "model.add(Activation('relu'))\n",
    "model.add(BatchNormalization())\n",
    "\n",
    "model.add(Conv2D(32, (3, 3)))\n",
    "model.add(Activation('relu'))\n",
    "model.add(BatchNormalization())\n",
    "model.add(MaxPooling2D(pool_size=(2, 2)))\n",
    "model.add(Dropout(0.20))\n",
    "\n",
    "model.add(Conv2D(64, (3, 3), padding='same'))\n",
    "model.add(Activation('relu'))\n",
    "model.add(BatchNormalization())\n",
    "\n",
    "model.add(Conv2D(64, (3, 3)))\n",
    "model.add(Activation('relu'))\n",
    "model.add(BatchNormalization())\n",
    "model.add(MaxPooling2D(pool_size=(2, 2)))\n",
    "model.add(Dropout(0.20))\n",
    "\n",
    "model.add(Conv2D(128, (3, 3), padding='same'))\n",
    "model.add(Activation('relu'))\n",
    "model.add(BatchNormalization())\n",
    "\n",
    "model.add(Conv2D(128, (3, 3)))\n",
    "model.add(Activation('relu'))\n",
    "model.add(BatchNormalization())\n",
    "model.add(MaxPooling2D(pool_size=(2, 2)))\n",
    "model.add(Dropout(0.20))\n",
    "\n",
    "model.add(Flatten())\n",
    "model.add(Dense(512,kernel_regularizer=l2(0.01)))\n",
    "model.add(Activation('relu'))\n",
    "model.add(Dropout(0.20))\n",
    "model.add(Dense(num_classes))\n",
    "model.add(Activation('softmax'))\n",
    "\n",
    "model.summary()"
   ]
  },
  {
   "cell_type": "code",
   "execution_count": 17,
   "id": "69172a5a",
   "metadata": {},
   "outputs": [],
   "source": [
    "# usual cross entropy loss\n",
    "# choose any optimiser such as adam, rmsprop etc\n",
    "# metric is accuracy\n",
    "model.compile(loss=tf.keras.losses.categorical_crossentropy,\n",
    "              optimizer=tf.keras.optimizers.Adadelta(),\n",
    "              metrics=['accuracy'])"
   ]
  },
  {
   "cell_type": "code",
   "execution_count": 18,
   "id": "aa6e8670",
   "metadata": {},
   "outputs": [
    {
     "name": "stdout",
     "output_type": "stream",
     "text": [
      "Epoch 1/50\n",
      "230/230 [==============================] - 1119s 5s/step - loss: 13.0773 - accuracy: 0.1699 - val_loss: 12.4566 - val_accuracy: 0.1143\n",
      "Epoch 2/50\n",
      "230/230 [==============================] - 1156s 5s/step - loss: 12.4707 - accuracy: 0.2385 - val_loss: 12.6127 - val_accuracy: 0.1413\n",
      "Epoch 3/50\n",
      "230/230 [==============================] - 1152s 5s/step - loss: 12.1794 - accuracy: 0.2838 - val_loss: 12.3898 - val_accuracy: 0.1523\n",
      "Epoch 4/50\n",
      "230/230 [==============================] - 1208s 5s/step - loss: 11.9846 - accuracy: 0.3101 - val_loss: 11.8935 - val_accuracy: 0.2877\n",
      "Epoch 5/50\n",
      "230/230 [==============================] - 1151s 5s/step - loss: 11.8415 - accuracy: 0.3359 - val_loss: 11.7512 - val_accuracy: 0.3338\n",
      "Epoch 6/50\n",
      "230/230 [==============================] - 1152s 5s/step - loss: 11.7299 - accuracy: 0.3539 - val_loss: 11.6863 - val_accuracy: 0.3501\n",
      "Epoch 7/50\n",
      "230/230 [==============================] - 1151s 5s/step - loss: 11.6469 - accuracy: 0.3677 - val_loss: 11.6198 - val_accuracy: 0.3665\n",
      "Epoch 8/50\n",
      "230/230 [==============================] - 1242s 5s/step - loss: 11.5759 - accuracy: 0.3815 - val_loss: 11.5637 - val_accuracy: 0.3774\n",
      "Epoch 9/50\n",
      "230/230 [==============================] - 1136s 5s/step - loss: 11.5152 - accuracy: 0.3913 - val_loss: 11.5032 - val_accuracy: 0.3921\n",
      "Epoch 10/50\n",
      "230/230 [==============================] - 1148s 5s/step - loss: 11.4506 - accuracy: 0.4035 - val_loss: 11.4529 - val_accuracy: 0.4018\n",
      "Epoch 11/50\n",
      "230/230 [==============================] - 1164s 5s/step - loss: 11.3967 - accuracy: 0.4145 - val_loss: 11.4185 - val_accuracy: 0.4064\n",
      "Epoch 12/50\n",
      "230/230 [==============================] - 1138s 5s/step - loss: 11.3312 - accuracy: 0.4218 - val_loss: 11.3622 - val_accuracy: 0.4112\n",
      "Epoch 13/50\n",
      "230/230 [==============================] - 1151s 5s/step - loss: 11.2904 - accuracy: 0.4268 - val_loss: 11.3327 - val_accuracy: 0.4151\n",
      "Epoch 14/50\n",
      "230/230 [==============================] - 1147s 5s/step - loss: 11.2317 - accuracy: 0.4378 - val_loss: 11.2872 - val_accuracy: 0.4195\n",
      "Epoch 15/50\n",
      "230/230 [==============================] - 1141s 5s/step - loss: 11.1850 - accuracy: 0.4423 - val_loss: 11.2368 - val_accuracy: 0.4235\n",
      "Epoch 16/50\n",
      "230/230 [==============================] - 1137s 5s/step - loss: 11.1426 - accuracy: 0.4481 - val_loss: 11.1890 - val_accuracy: 0.4312\n",
      "Epoch 17/50\n",
      "230/230 [==============================] - 1138s 5s/step - loss: 11.0864 - accuracy: 0.4540 - val_loss: 11.1472 - val_accuracy: 0.4346\n",
      "Epoch 18/50\n",
      "230/230 [==============================] - 1150s 5s/step - loss: 11.0312 - accuracy: 0.4616 - val_loss: 11.1068 - val_accuracy: 0.4410\n",
      "Epoch 19/50\n",
      "230/230 [==============================] - 1200s 5s/step - loss: 10.9902 - accuracy: 0.4646 - val_loss: 11.0528 - val_accuracy: 0.4462\n",
      "Epoch 20/50\n",
      "230/230 [==============================] - 1148s 5s/step - loss: 10.9493 - accuracy: 0.4676 - val_loss: 11.0056 - val_accuracy: 0.4509\n",
      "Epoch 21/50\n",
      "230/230 [==============================] - 1210s 5s/step - loss: 10.9005 - accuracy: 0.4722 - val_loss: 10.9709 - val_accuracy: 0.4526\n",
      "Epoch 22/50\n",
      "230/230 [==============================] - 1203s 5s/step - loss: 10.8594 - accuracy: 0.4752 - val_loss: 10.9372 - val_accuracy: 0.4543\n",
      "Epoch 23/50\n",
      "230/230 [==============================] - 1401s 6s/step - loss: 10.8144 - accuracy: 0.4815 - val_loss: 10.8894 - val_accuracy: 0.4592\n",
      "Epoch 24/50\n",
      "230/230 [==============================] - 1266s 6s/step - loss: 10.7730 - accuracy: 0.4833 - val_loss: 10.8501 - val_accuracy: 0.4612\n",
      "Epoch 25/50\n",
      "230/230 [==============================] - 2907s 13s/step - loss: 10.7270 - accuracy: 0.4887 - val_loss: 10.7934 - val_accuracy: 0.4675\n",
      "Epoch 26/50\n",
      "230/230 [==============================] - 2240s 10s/step - loss: 10.6911 - accuracy: 0.4875 - val_loss: 10.7672 - val_accuracy: 0.4669\n",
      "Epoch 27/50\n",
      "230/230 [==============================] - 1172s 5s/step - loss: 10.6422 - accuracy: 0.4961 - val_loss: 10.7289 - val_accuracy: 0.4685\n",
      "Epoch 28/50\n",
      "230/230 [==============================] - 1713s 7s/step - loss: 10.5981 - accuracy: 0.4979 - val_loss: 10.6803 - val_accuracy: 0.4734\n",
      "Epoch 29/50\n",
      "230/230 [==============================] - 1181s 5s/step - loss: 10.5521 - accuracy: 0.5017 - val_loss: 10.6379 - val_accuracy: 0.4784\n",
      "Epoch 30/50\n",
      "230/230 [==============================] - 1190s 5s/step - loss: 10.5142 - accuracy: 0.5043 - val_loss: 10.5990 - val_accuracy: 0.4810\n",
      "Epoch 31/50\n",
      "230/230 [==============================] - 3848s 17s/step - loss: 10.4734 - accuracy: 0.5088 - val_loss: 10.5528 - val_accuracy: 0.4855\n",
      "Epoch 32/50\n",
      "230/230 [==============================] - 3495s 15s/step - loss: 10.4313 - accuracy: 0.5113 - val_loss: 10.5253 - val_accuracy: 0.4858\n",
      "Epoch 33/50\n",
      "230/230 [==============================] - 1653s 7s/step - loss: 10.3851 - accuracy: 0.5189 - val_loss: 10.4779 - val_accuracy: 0.4892\n",
      "Epoch 34/50\n",
      "230/230 [==============================] - 1213s 5s/step - loss: 10.3484 - accuracy: 0.5199 - val_loss: 10.4474 - val_accuracy: 0.4896\n",
      "Epoch 35/50\n",
      "230/230 [==============================] - 1155s 5s/step - loss: 10.3045 - accuracy: 0.5200 - val_loss: 10.4137 - val_accuracy: 0.4910\n",
      "Epoch 36/50\n",
      "230/230 [==============================] - 1117s 5s/step - loss: 10.2655 - accuracy: 0.5249 - val_loss: 10.3760 - val_accuracy: 0.4922\n",
      "Epoch 37/50\n",
      "230/230 [==============================] - 1112s 5s/step - loss: 10.2228 - accuracy: 0.5282 - val_loss: 10.3071 - val_accuracy: 0.5048\n",
      "Epoch 38/50\n",
      "230/230 [==============================] - 1128s 5s/step - loss: 10.1892 - accuracy: 0.5261 - val_loss: 10.2861 - val_accuracy: 0.5012\n",
      "Epoch 39/50\n",
      "230/230 [==============================] - 1110s 5s/step - loss: 10.1478 - accuracy: 0.5345 - val_loss: 10.2381 - val_accuracy: 0.5077\n",
      "Epoch 40/50\n",
      "230/230 [==============================] - 1169s 5s/step - loss: 10.1075 - accuracy: 0.5355 - val_loss: 10.2323 - val_accuracy: 0.4998\n",
      "Epoch 41/50\n",
      "230/230 [==============================] - 1220s 5s/step - loss: 10.0669 - accuracy: 0.5363 - val_loss: 10.1866 - val_accuracy: 0.5034\n",
      "Epoch 42/50\n",
      "230/230 [==============================] - 1194s 5s/step - loss: 10.0294 - accuracy: 0.5372 - val_loss: 10.1339 - val_accuracy: 0.5098\n",
      "Epoch 43/50\n",
      "230/230 [==============================] - 1160s 5s/step - loss: 9.9870 - accuracy: 0.5417 - val_loss: 10.1083 - val_accuracy: 0.5093\n",
      "Epoch 44/50\n",
      "230/230 [==============================] - 1183s 5s/step - loss: 9.9474 - accuracy: 0.5454 - val_loss: 10.0685 - val_accuracy: 0.5137\n",
      "Epoch 45/50\n",
      "230/230 [==============================] - 1143s 5s/step - loss: 9.9097 - accuracy: 0.5474 - val_loss: 10.0459 - val_accuracy: 0.5112\n",
      "Epoch 46/50\n",
      "230/230 [==============================] - 1203s 5s/step - loss: 9.8743 - accuracy: 0.5448 - val_loss: 9.9782 - val_accuracy: 0.5211\n",
      "Epoch 47/50\n",
      "230/230 [==============================] - 1165s 5s/step - loss: 9.8378 - accuracy: 0.5470 - val_loss: 9.9586 - val_accuracy: 0.5172\n",
      "Epoch 48/50\n",
      "230/230 [==============================] - 1143s 5s/step - loss: 9.8003 - accuracy: 0.5486 - val_loss: 9.9118 - val_accuracy: 0.5247\n",
      "Epoch 49/50\n",
      "230/230 [==============================] - 1245s 5s/step - loss: 9.7648 - accuracy: 0.5505 - val_loss: 9.8981 - val_accuracy: 0.5176\n",
      "Epoch 50/50\n",
      "230/230 [==============================] - 1192s 5s/step - loss: 9.7185 - accuracy: 0.5586 - val_loss: 9.8397 - val_accuracy: 0.5290\n"
     ]
    }
   ],
   "source": [
    "r = model.fit(X_train, y_train,\n",
    "          batch_size=batch_size,\n",
    "          epochs=50,\n",
    "          verbose=1,\n",
    "          validation_data=(X_test, y_test),\n",
    "          shuffle=True)"
   ]
  },
  {
   "cell_type": "code",
   "execution_count": 19,
   "id": "a69573b1",
   "metadata": {},
   "outputs": [
    {
     "data": {
      "image/png": "[encoded data removed]",
      "text/plain": [
       "<Figure size 640x480 with 1 Axes>"
      ]
     },
     "metadata": {},
     "output_type": "display_data"
    },
    {
     "data": {
      "text/plain": [
       "<Figure size 640x480 with 0 Axes>"
      ]
     },
     "metadata": {},
     "output_type": "display_data"
    }
   ],
   "source": [
    "# loss\n",
    "plt.plot(r.history['loss'], label='train loss')\n",
    "plt.plot(r.history['val_loss'], label='val loss')\n",
    "plt.legend()\n",
    "plt.show()\n",
    "plt.savefig('LossVal_loss')"
   ]
  },
  {
   "cell_type": "code",
   "execution_count": 20,
   "id": "4dd6af32",
   "metadata": {},
   "outputs": [
    {
     "data": {
      "image/png": "[encoded data removed]",
      "text/plain": [
       "<Figure size 640x480 with 1 Axes>"
      ]
     },
     "metadata": {},
     "output_type": "display_data"
    },
    {
     "data": {
      "text/plain": [
       "<Figure size 640x480 with 0 Axes>"
      ]
     },
     "metadata": {},
     "output_type": "display_data"
    }
   ],
   "source": [
    "# accuracies\n",
    "plt.plot(r.history['accuracy'], label='train acc')\n",
    "plt.plot(r.history['val_accuracy'], label='val acc')\n",
    "plt.legend()\n",
    "plt.show()\n",
    "plt.savefig('AccVal_acc')"
   ]
  },
  {
   "cell_type": "code",
   "execution_count": 21,
   "id": "31eb4b71",
   "metadata": {},
   "outputs": [
    {
     "name": "stdout",
     "output_type": "stream",
     "text": [
      "Total Params: 11368424\n"
     ]
    }
   ],
   "source": [
    "print(\"Total Params:\", model.count_params())"
   ]
  },
  {
   "cell_type": "code",
   "execution_count": 22,
   "id": "a7ffb58d",
   "metadata": {},
   "outputs": [
    {
     "name": "stdout",
     "output_type": "stream",
     "text": [
      "307/307 [==============================] - 59s 192ms/step - loss: 9.8397 - accuracy: 0.5290\n",
      "Accuracy :  [9.839730262756348, 0.5290336012840271]\n"
     ]
    }
   ],
   "source": [
    "print(\"Accuracy : \", model.evaluate(X_test,y_test))"
   ]
  },
  {
   "cell_type": "code",
   "execution_count": 23,
   "id": "37fb2877",
   "metadata": {},
   "outputs": [],
   "source": [
    "import tensorflow as tf\n",
    "\n",
    "from keras.models import load_model\n",
    "\n",
    "model.save('model/model_cnn.h5')"
   ]
  },
  {
   "cell_type": "markdown",
   "id": "ab4a9002",
   "metadata": {},
   "source": [
    "---"
   ]
  }
 ],
 "metadata": {
  "kernelspec": {
   "display_name": "Python 3 (ipykernel)",
   "language": "python",
   "name": "python3"
  },
  "language_info": {
   "codemirror_mode": {
    "name": "ipython",
    "version": 3
   },
   "file_extension": ".py",
   "mimetype": "text/x-python",
   "name": "python",
   "nbconvert_exporter": "python",
   "pygments_lexer": "ipython3",
   "version": "3.9.12"
  }
 },
 "nbformat": 4,
 "nbformat_minor": 5
}
