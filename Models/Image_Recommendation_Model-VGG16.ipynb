{
 "cells": [
  {
   "cell_type": "code",
   "execution_count": 1,
   "id": "6a3c5c7b",
   "metadata": {},
   "outputs": [],
   "source": [
    "import os\n",
    "from keras.layers import Input, Lambda, Dense, Flatten\n",
    "from keras.models import Model\n",
    "from keras.applications.vgg16 import VGG16\n",
    "from keras.applications.vgg16 import preprocess_input\n",
    "from keras.preprocessing import image\n",
    "from keras.preprocessing.image import ImageDataGenerator\n",
    "from tensorflow.keras.layers import GlobalMaxPooling2D\n",
    "from keras.models import Sequential, load_model\n",
    "import numpy as np\n",
    "from glob import glob\n",
    "import matplotlib.pyplot as plt\n",
    "import tensorflow as tf\n",
    "import pandas as pd\n",
    "import multiprocessing as mp\n",
    "\n",
    "import warnings\n",
    "warnings.filterwarnings('ignore')"
   ]
  },
  {
   "cell_type": "code",
   "execution_count": 2,
   "id": "4738ecc6",
   "metadata": {},
   "outputs": [
    {
     "data": {
      "text/plain": [
       "'D:\\\\Python\\\\Image-Recommendation'"
      ]
     },
     "execution_count": 2,
     "metadata": {},
     "output_type": "execute_result"
    }
   ],
   "source": [
    "# Set working Dir\n",
    "path = \"D:\\Python\\Image-Recommendation\"\n",
    "os.chdir(path)\n",
    "os.getcwd()"
   ]
  },
  {
   "cell_type": "code",
   "execution_count": 3,
   "id": "b6c82b14",
   "metadata": {},
   "outputs": [
    {
     "data": {
      "text/plain": [
       "(39194, 9)"
      ]
     },
     "execution_count": 3,
     "metadata": {},
     "output_type": "execute_result"
    }
   ],
   "source": [
    "df = pd.read_csv('Save-Dataset/product_data.csv')\n",
    "df.drop(['Unnamed: 0'], axis=1, inplace=True)\n",
    "df.shape"
   ]
  },
  {
   "cell_type": "code",
   "execution_count": 4,
   "id": "4e9e7889",
   "metadata": {},
   "outputs": [],
   "source": [
    "train_df = pd.read_csv('save-dataset/train.csv')\n",
    "train_df.drop(['Unnamed: 0'], axis=1, inplace=True)\n",
    "\n",
    "test_df = pd.read_csv('save-dataset/test.csv')\n",
    "test_df.drop(['Unnamed: 0'], axis=1, inplace=True)"
   ]
  },
  {
   "cell_type": "code",
   "execution_count": 5,
   "id": "8022af5c",
   "metadata": {},
   "outputs": [
    {
     "name": "stdout",
     "output_type": "stream",
     "text": [
      "Train-DF shape: (29395, 9)\n",
      "Test-DF shape: (9799, 9)\n"
     ]
    }
   ],
   "source": [
    "print('Train-DF shape:', train_df.shape)\n",
    "print('Test-DF shape:', test_df.shape)"
   ]
  },
  {
   "cell_type": "code",
   "execution_count": 6,
   "id": "38a07826",
   "metadata": {},
   "outputs": [],
   "source": [
    "# re-size all the images to this\n",
    "IMAGE_SIZE = [224, 224]"
   ]
  },
  {
   "cell_type": "code",
   "execution_count": 7,
   "id": "f5b47e83",
   "metadata": {},
   "outputs": [],
   "source": [
    "# Add preprocessing layer to the front of VGG\n",
    "vgg = VGG16(input_shape=IMAGE_SIZE + [3], weights='imagenet', include_top=False)"
   ]
  },
  {
   "cell_type": "code",
   "execution_count": 8,
   "id": "2fec2355",
   "metadata": {},
   "outputs": [],
   "source": [
    "# don't train existing weights\n",
    "for layer in vgg.layers:\n",
    "  layer.trainable = False"
   ]
  },
  {
   "cell_type": "code",
   "execution_count": 9,
   "id": "97ad7026",
   "metadata": {},
   "outputs": [
    {
     "name": "stdout",
     "output_type": "stream",
     "text": [
      "['train-test-dataset\\\\train\\\\Cell Phones and Accessories', 'train-test-dataset\\\\train\\\\Clothing Men', 'train-test-dataset\\\\train\\\\Clothing Women', 'train-test-dataset\\\\train\\\\Electronics', 'train-test-dataset\\\\train\\\\Home and Kitchen', 'train-test-dataset\\\\train\\\\Pet Supplies', 'train-test-dataset\\\\train\\\\Shoes', 'train-test-dataset\\\\train\\\\Watches']\n"
     ]
    }
   ],
   "source": [
    "# useful for getting number of classes\n",
    "folders = glob('train-test-dataset\\\\train\\\\*')\n",
    "print(folders)"
   ]
  },
  {
   "cell_type": "code",
   "execution_count": 10,
   "id": "dac82356",
   "metadata": {},
   "outputs": [],
   "source": [
    "# our layers - you can add more if you want\n",
    "x = Flatten()(vgg.output)\n",
    "prediction = Dense(len(folders), activation='softmax')(x)"
   ]
  },
  {
   "cell_type": "code",
   "execution_count": 11,
   "id": "9629ce23",
   "metadata": {},
   "outputs": [],
   "source": [
    "# create a model object\n",
    "model = Model(inputs=vgg.input, outputs=prediction)"
   ]
  },
  {
   "cell_type": "code",
   "execution_count": 12,
   "id": "a27c5dd6",
   "metadata": {},
   "outputs": [
    {
     "name": "stdout",
     "output_type": "stream",
     "text": [
      "Model: \"model\"\n",
      "_________________________________________________________________\n",
      " Layer (type)                Output Shape              Param #   \n",
      "=================================================================\n",
      " input_1 (InputLayer)        [(None, 224, 224, 3)]     0         \n",
      "                                                                 \n",
      " block1_conv1 (Conv2D)       (None, 224, 224, 64)      1792      \n",
      "                                                                 \n",
      " block1_conv2 (Conv2D)       (None, 224, 224, 64)      36928     \n",
      "                                                                 \n",
      " block1_pool (MaxPooling2D)  (None, 112, 112, 64)      0         \n",
      "                                                                 \n",
      " block2_conv1 (Conv2D)       (None, 112, 112, 128)     73856     \n",
      "                                                                 \n",
      " block2_conv2 (Conv2D)       (None, 112, 112, 128)     147584    \n",
      "                                                                 \n",
      " block2_pool (MaxPooling2D)  (None, 56, 56, 128)       0         \n",
      "                                                                 \n",
      " block3_conv1 (Conv2D)       (None, 56, 56, 256)       295168    \n",
      "                                                                 \n",
      " block3_conv2 (Conv2D)       (None, 56, 56, 256)       590080    \n",
      "                                                                 \n",
      " block3_conv3 (Conv2D)       (None, 56, 56, 256)       590080    \n",
      "                                                                 \n",
      " block3_pool (MaxPooling2D)  (None, 28, 28, 256)       0         \n",
      "                                                                 \n",
      " block4_conv1 (Conv2D)       (None, 28, 28, 512)       1180160   \n",
      "                                                                 \n",
      " block4_conv2 (Conv2D)       (None, 28, 28, 512)       2359808   \n",
      "                                                                 \n",
      " block4_conv3 (Conv2D)       (None, 28, 28, 512)       2359808   \n",
      "                                                                 \n",
      " block4_pool (MaxPooling2D)  (None, 14, 14, 512)       0         \n",
      "                                                                 \n",
      " block5_conv1 (Conv2D)       (None, 14, 14, 512)       2359808   \n",
      "                                                                 \n",
      " block5_conv2 (Conv2D)       (None, 14, 14, 512)       2359808   \n",
      "                                                                 \n",
      " block5_conv3 (Conv2D)       (None, 14, 14, 512)       2359808   \n",
      "                                                                 \n",
      " block5_pool (MaxPooling2D)  (None, 7, 7, 512)         0         \n",
      "                                                                 \n",
      " flatten (Flatten)           (None, 25088)             0         \n",
      "                                                                 \n",
      " dense (Dense)               (None, 8)                 200712    \n",
      "                                                                 \n",
      "=================================================================\n",
      "Total params: 14,915,400\n",
      "Trainable params: 200,712\n",
      "Non-trainable params: 14,714,688\n",
      "_________________________________________________________________\n"
     ]
    }
   ],
   "source": [
    "# view the structure of the model\n",
    "model.summary()"
   ]
  },
  {
   "cell_type": "code",
   "execution_count": 13,
   "id": "d886e7f9",
   "metadata": {},
   "outputs": [],
   "source": [
    "# tell the model what cost and optimization method to use\n",
    "model.compile(\n",
    "  loss='categorical_crossentropy',\n",
    "  optimizer='adam',\n",
    "  metrics=['accuracy']\n",
    ")"
   ]
  },
  {
   "cell_type": "code",
   "execution_count": 14,
   "id": "f16fc295",
   "metadata": {},
   "outputs": [],
   "source": [
    "from keras.callbacks import ModelCheckpoint\n",
    "\n",
    "# define the checkpoint\n",
    "filepath = 'model/model_vgg16.h5'\n",
    "checkpoint = ModelCheckpoint(filepath, monitor='loss', verbose=1, save_best_only=True, mode='min')\n",
    "callbacks_list = [checkpoint]"
   ]
  },
  {
   "cell_type": "code",
   "execution_count": 15,
   "id": "7639b853",
   "metadata": {},
   "outputs": [],
   "source": [
    "train_datagen = ImageDataGenerator(rescale = 1./255,\n",
    "                                   shear_range = 0.2,\n",
    "                                   zoom_range = 0.2,\n",
    "                                   horizontal_flip = True,\n",
    "                                   validation_split=0.2)"
   ]
  },
  {
   "cell_type": "code",
   "execution_count": 17,
   "id": "24e0eabd",
   "metadata": {},
   "outputs": [
    {
     "name": "stdout",
     "output_type": "stream",
     "text": [
      "Found 23517 images belonging to 8 classes.\n"
     ]
    }
   ],
   "source": [
    "training_set = train_datagen.flow_from_directory('train-test-dataset/train',                                                 \n",
    "                                                 target_size = (224, 224),\n",
    "                                                 batch_size = 32,\n",
    "                                                 class_mode = 'categorical',\n",
    "                                                 subset='training',\n",
    "                                                 shuffle=True,\n",
    "                                                 seed=42)"
   ]
  },
  {
   "cell_type": "code",
   "execution_count": 18,
   "id": "fc5d3f2e",
   "metadata": {},
   "outputs": [
    {
     "name": "stdout",
     "output_type": "stream",
     "text": [
      "Found 5878 images belonging to 8 classes.\n"
     ]
    }
   ],
   "source": [
    "validation_set = train_datagen.flow_from_directory('train-test-dataset/train',\n",
    "                                                    target_size=(224, 224),\n",
    "                                                    batch_size=32,\n",
    "                                                    class_mode=\"categorical\",\n",
    "                                                    subset='validation',\n",
    "                                                    shuffle=True,\n",
    "                                                    seed=42)"
   ]
  },
  {
   "cell_type": "code",
   "execution_count": 24,
   "id": "67859298",
   "metadata": {},
   "outputs": [],
   "source": [
    "test_datagen = ImageDataGenerator(rescale = 1./255)"
   ]
  },
  {
   "cell_type": "code",
   "execution_count": 25,
   "id": "5557f14f",
   "metadata": {},
   "outputs": [
    {
     "name": "stdout",
     "output_type": "stream",
     "text": [
      "Found 9799 images belonging to 8 classes.\n"
     ]
    }
   ],
   "source": [
    "testing_set = test_datagen.flow_from_directory('train-test-dataset/test',                                                 \n",
    "                                                 target_size = (224, 224),\n",
    "                                                 batch_size = 32,\n",
    "                                                 class_mode = 'categorical',                                                 \n",
    "                                                 shuffle=True,\n",
    "                                                 seed=42)"
   ]
  },
  {
   "cell_type": "code",
   "execution_count": 19,
   "id": "4a2e9b08",
   "metadata": {},
   "outputs": [
    {
     "name": "stdout",
     "output_type": "stream",
     "text": [
      "Epoch 1/10\n",
      "735/735 [==============================] - ETA: 0s - loss: 0.9692 - accuracy: 0.7024\n",
      "Epoch 1: loss improved from inf to 0.96921, saving model to model\\model_vgg16.h5\n",
      "735/735 [==============================] - 7944s 11s/step - loss: 0.9692 - accuracy: 0.7024 - val_loss: 0.9902 - val_accuracy: 0.7082\n",
      "Epoch 2/10\n",
      "735/735 [==============================] - ETA: 0s - loss: 0.7749 - accuracy: 0.7669\n",
      "Epoch 2: loss improved from 0.96921 to 0.77491, saving model to model\\model_vgg16.h5\n",
      "735/735 [==============================] - 7546s 10s/step - loss: 0.7749 - accuracy: 0.7669 - val_loss: 0.9098 - val_accuracy: 0.7355\n",
      "Epoch 3/10\n",
      "735/735 [==============================] - ETA: 0s - loss: 0.7062 - accuracy: 0.7868\n",
      "Epoch 3: loss improved from 0.77491 to 0.70621, saving model to model\\model_vgg16.h5\n",
      "735/735 [==============================] - 6815s 9s/step - loss: 0.7062 - accuracy: 0.7868 - val_loss: 0.9994 - val_accuracy: 0.7300\n",
      "Epoch 4/10\n",
      "735/735 [==============================] - ETA: 0s - loss: 0.6522 - accuracy: 0.8055\n",
      "Epoch 4: loss improved from 0.70621 to 0.65225, saving model to model\\model_vgg16.h5\n",
      "735/735 [==============================] - 6899s 9s/step - loss: 0.6522 - accuracy: 0.8055 - val_loss: 1.3154 - val_accuracy: 0.6994\n",
      "Epoch 5/10\n",
      "735/735 [==============================] - ETA: 0s - loss: 0.6405 - accuracy: 0.8121\n",
      "Epoch 5: loss improved from 0.65225 to 0.64053, saving model to model\\model_vgg16.h5\n",
      "735/735 [==============================] - 6796s 9s/step - loss: 0.6405 - accuracy: 0.8121 - val_loss: 1.0627 - val_accuracy: 0.7390\n",
      "Epoch 6/10\n",
      "735/735 [==============================] - ETA: 0s - loss: 0.5847 - accuracy: 0.8244\n",
      "Epoch 6: loss improved from 0.64053 to 0.58466, saving model to model\\model_vgg16.h5\n",
      "735/735 [==============================] - 6666s 9s/step - loss: 0.5847 - accuracy: 0.8244 - val_loss: 1.0508 - val_accuracy: 0.7453\n",
      "Epoch 7/10\n",
      "735/735 [==============================] - ETA: 0s - loss: 0.5436 - accuracy: 0.8352\n",
      "Epoch 7: loss improved from 0.58466 to 0.54359, saving model to model\\model_vgg16.h5\n",
      "735/735 [==============================] - 6644s 9s/step - loss: 0.5436 - accuracy: 0.8352 - val_loss: 1.1193 - val_accuracy: 0.7353\n",
      "Epoch 8/10\n",
      "735/735 [==============================] - ETA: 0s - loss: 0.5397 - accuracy: 0.8382\n",
      "Epoch 8: loss improved from 0.54359 to 0.53972, saving model to model\\model_vgg16.h5\n",
      "735/735 [==============================] - 6746s 9s/step - loss: 0.5397 - accuracy: 0.8382 - val_loss: 1.2643 - val_accuracy: 0.7324\n",
      "Epoch 9/10\n",
      "735/735 [==============================] - ETA: 0s - loss: 0.4885 - accuracy: 0.8507\n",
      "Epoch 9: loss improved from 0.53972 to 0.48851, saving model to model\\model_vgg16.h5\n",
      "735/735 [==============================] - 7115s 10s/step - loss: 0.4885 - accuracy: 0.8507 - val_loss: 1.1520 - val_accuracy: 0.7497\n",
      "Epoch 10/10\n",
      "735/735 [==============================] - ETA: 0s - loss: 0.4852 - accuracy: 0.8541\n",
      "Epoch 10: loss improved from 0.48851 to 0.48517, saving model to model\\model_vgg16.h5\n",
      "735/735 [==============================] - 7356s 10s/step - loss: 0.4852 - accuracy: 0.8541 - val_loss: 1.1641 - val_accuracy: 0.7480\n"
     ]
    }
   ],
   "source": [
    "# fit the model\n",
    "r = model.fit_generator(\n",
    "  training_set,\n",
    "  validation_data=validation_set,\n",
    "  epochs=10,\n",
    "  steps_per_epoch=len(training_set),\n",
    "  validation_steps=len(validation_set),\n",
    "  callbacks=callbacks_list  \n",
    ")"
   ]
  },
  {
   "cell_type": "code",
   "execution_count": 20,
   "id": "2eb45af1",
   "metadata": {},
   "outputs": [
    {
     "data": {
      "image/png": "[encoded data removed]",
      "text/plain": [
       "<Figure size 640x480 with 1 Axes>"
      ]
     },
     "metadata": {},
     "output_type": "display_data"
    },
    {
     "data": {
      "text/plain": [
       "<Figure size 640x480 with 0 Axes>"
      ]
     },
     "metadata": {},
     "output_type": "display_data"
    }
   ],
   "source": [
    "# loss\n",
    "plt.plot(r.history['loss'], label='train loss')\n",
    "plt.plot(r.history['val_loss'], label='val loss')\n",
    "plt.legend()\n",
    "plt.show()\n",
    "plt.savefig('LossVal_loss')"
   ]
  },
  {
   "cell_type": "code",
   "execution_count": 21,
   "id": "71450c09",
   "metadata": {},
   "outputs": [
    {
     "data": {
      "image/png": "[encoded data removed]",
      "text/plain": [
       "<Figure size 640x480 with 1 Axes>"
      ]
     },
     "metadata": {},
     "output_type": "display_data"
    },
    {
     "data": {
      "text/plain": [
       "<Figure size 640x480 with 0 Axes>"
      ]
     },
     "metadata": {},
     "output_type": "display_data"
    }
   ],
   "source": [
    "# accuracies\n",
    "plt.plot(r.history['accuracy'], label='train acc')\n",
    "plt.plot(r.history['val_accuracy'], label='val acc')\n",
    "plt.legend()\n",
    "plt.show()\n",
    "plt.savefig('AccVal_acc')"
   ]
  },
  {
   "cell_type": "code",
   "execution_count": 23,
   "id": "32ae307e",
   "metadata": {},
   "outputs": [
    {
     "name": "stdout",
     "output_type": "stream",
     "text": [
      "Total Params: 14915400\n"
     ]
    }
   ],
   "source": [
    "print(\"Total Params:\", model.count_params())"
   ]
  },
  {
   "cell_type": "code",
   "execution_count": 26,
   "id": "c971f09c",
   "metadata": {},
   "outputs": [
    {
     "name": "stdout",
     "output_type": "stream",
     "text": [
      "307/307 [==============================] - 4880s 16s/step - loss: 0.6057 - accuracy: 0.8498\n",
      "Accuracy :  [0.6056905388832092, 0.8497806191444397]\n"
     ]
    }
   ],
   "source": [
    "print(\"Accuracy : \", model.evaluate(testing_set))"
   ]
  },
  {
   "cell_type": "markdown",
   "id": "ff446edf",
   "metadata": {},
   "source": [
    "---"
   ]
  }
 ],
 "metadata": {
  "kernelspec": {
   "display_name": "Python 3 (ipykernel)",
   "language": "python",
   "name": "python3"
  },
  "language_info": {
   "codemirror_mode": {
    "name": "ipython",
    "version": 3
   },
   "file_extension": ".py",
   "mimetype": "text/x-python",
   "name": "python",
   "nbconvert_exporter": "python",
   "pygments_lexer": "ipython3",
   "version": "3.9.12"
  }
 },
 "nbformat": 4,
 "nbformat_minor": 5
}
